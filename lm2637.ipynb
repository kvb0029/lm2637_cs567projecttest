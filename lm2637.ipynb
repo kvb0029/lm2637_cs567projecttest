{
  "nbformat": 4,
  "nbformat_minor": 0,
  "metadata": {
    "colab": {
      "provenance": []
    },
    "kernelspec": {
      "name": "python3",
      "display_name": "Python 3"
    },
    "language_info": {
      "name": "python"
    }
  },
  "cells": [
    {
      "cell_type": "code",
      "execution_count": 4,
      "metadata": {
        "colab": {
          "base_uri": "https://localhost:8080/",
          "height": 0
        },
        "id": "5qr90v3ELUKD",
        "outputId": "d67ff9a5-0e7c-4cbb-aaef-7b8e1adb9c18"
      },
      "outputs": [
        {
          "output_type": "stream",
          "name": "stdout",
          "text": [
            "Cloning into 'lm2637_cs567projecttest'...\n",
            "remote: Enumerating objects: 16, done.\u001b[K\n",
            "remote: Counting objects: 100% (16/16), done.\u001b[K\n",
            "remote: Compressing objects: 100% (12/12), done.\u001b[K\n",
            "remote: Total 16 (delta 2), reused 0 (delta 0), pack-reused 0 (from 0)\u001b[K\n",
            "Receiving objects: 100% (16/16), 8.03 KiB | 8.03 MiB/s, done.\n",
            "Resolving deltas: 100% (2/2), done.\n"
          ]
        }
      ],
      "source": [
        "!git clone https://github.com/lm2637/lm2637_cs567projecttest.git"
      ]
    },
    {
      "cell_type": "code",
      "source": [
        "%cd lm2637_cs567projecttest\n",
        "!ls"
      ],
      "metadata": {
        "colab": {
          "base_uri": "https://localhost:8080/",
          "height": 0
        },
        "id": "AJ0jfsSnLdBk",
        "outputId": "ac25468f-f0fa-44e9-e34d-229fc47667ad"
      },
      "execution_count": 5,
      "outputs": [
        {
          "output_type": "stream",
          "name": "stdout",
          "text": [
            "/content/lm2637_cs567projecttest/lm2637_cs567projecttest\n",
            "project.py  testcasesfile.py\n"
          ]
        }
      ]
    },
    {
      "cell_type": "code",
      "source": [
        "!apt-get install cloc\n",
        "!cloc project.py  testcasesfile.py"
      ],
      "metadata": {
        "colab": {
          "base_uri": "https://localhost:8080/",
          "height": 0
        },
        "id": "kKnQqmt7LhgD",
        "outputId": "5a4999b6-f1c0-443c-ab88-ec108045a866"
      },
      "execution_count": 6,
      "outputs": [
        {
          "output_type": "stream",
          "name": "stdout",
          "text": [
            "Reading package lists... Done\n",
            "Building dependency tree... Done\n",
            "Reading state information... Done\n",
            "cloc is already the newest version (1.90-1).\n",
            "0 upgraded, 0 newly installed, 0 to remove and 49 not upgraded.\n",
            "       2 text files.\n",
            "       2 unique files.                              \n",
            "       0 files ignored.\n",
            "\n",
            "github.com/AlDanial/cloc v 1.90  T=0.01 s (171.9 files/s, 27500.8 lines/s)\n",
            "-------------------------------------------------------------------------------\n",
            "Language                     files          blank        comment           code\n",
            "-------------------------------------------------------------------------------\n",
            "Python                           2             55              6            259\n",
            "-------------------------------------------------------------------------------\n",
            "SUM:                             2             55              6            259\n",
            "-------------------------------------------------------------------------------\n"
          ]
        }
      ]
    },
    {
      "cell_type": "code",
      "source": [
        "!pip install tstl\n",
        "!python -m unittest testcasesfile.py"
      ],
      "metadata": {
        "colab": {
          "base_uri": "https://localhost:8080/",
          "height": 0
        },
        "id": "oX_cJdp6MbaU",
        "outputId": "8aa2ca6b-9826-428d-b4e7-0997b99a79af"
      },
      "execution_count": 7,
      "outputs": [
        {
          "output_type": "stream",
          "name": "stdout",
          "text": [
            "Collecting tstl\n",
            "  Downloading tstl-1.2.39-py3-none-any.whl.metadata (49 kB)\n",
            "\u001b[2K     \u001b[90m━━━━━━━━━━━━━━━━━━━━━━━━━━━━━━━━━━━━━━━━\u001b[0m \u001b[32m49.5/49.5 kB\u001b[0m \u001b[31m2.7 MB/s\u001b[0m eta \u001b[36m0:00:00\u001b[0m\n",
            "\u001b[?25hCollecting coverage==4.5.2 (from tstl)\n",
            "  Downloading coverage-4.5.2.tar.gz (384 kB)\n",
            "\u001b[2K     \u001b[90m━━━━━━━━━━━━━━━━━━━━━━━━━━━━━━━━━━━━━━━━\u001b[0m \u001b[32m384.8/384.8 kB\u001b[0m \u001b[31m14.6 MB/s\u001b[0m eta \u001b[36m0:00:00\u001b[0m\n",
            "\u001b[?25h  Preparing metadata (setup.py) ... \u001b[?25l\u001b[?25hdone\n",
            "Downloading tstl-1.2.39-py3-none-any.whl (108 kB)\n",
            "\u001b[2K   \u001b[90m━━━━━━━━━━━━━━━━━━━━━━━━━━━━━━━━━━━━━━━━\u001b[0m \u001b[32m108.8/108.8 kB\u001b[0m \u001b[31m7.7 MB/s\u001b[0m eta \u001b[36m0:00:00\u001b[0m\n",
            "\u001b[?25hBuilding wheels for collected packages: coverage\n",
            "  Building wheel for coverage (setup.py) ... \u001b[?25l\u001b[?25hdone\n",
            "  Created wheel for coverage: filename=coverage-4.5.2-cp310-cp310-linux_x86_64.whl size=206342 sha256=6f94aa048ab3b9585de1f387fa2f6781e13efff5409f3402bc985b832127fb8a\n",
            "  Stored in directory: /root/.cache/pip/wheels/af/b6/3b/b65ce9232f6f54b2962d5aac08256de8c18794d6df08763e23\n",
            "Successfully built coverage\n",
            "Installing collected packages: coverage, tstl\n",
            "Successfully installed coverage-4.5.2 tstl-1.2.39\n",
            "............\n",
            "----------------------------------------------------------------------\n",
            "Ran 12 tests in 0.001s\n",
            "\n",
            "OK\n"
          ]
        }
      ]
    },
    {
      "cell_type": "code",
      "source": [
        "!pip install coverage\n",
        "!coverage run testcasesfile.py\n",
        "!coverage report -m"
      ],
      "metadata": {
        "colab": {
          "base_uri": "https://localhost:8080/",
          "height": 0
        },
        "id": "4blgwRp1Mj1_",
        "outputId": "ada20b41-d1cc-4619-8d97-75026b91544b"
      },
      "execution_count": 9,
      "outputs": [
        {
          "output_type": "stream",
          "name": "stdout",
          "text": [
            "Requirement already satisfied: coverage in /usr/local/lib/python3.10/dist-packages (4.5.2)\n",
            "............\n",
            "----------------------------------------------------------------------\n",
            "Ran 12 tests in 0.002s\n",
            "\n",
            "OK\n",
            "Name                                                                  Stmts   Miss  Cover   Missing\n",
            "---------------------------------------------------------------------------------------------------\n",
            "project.py                                                              173     58    66%   30, 36, 75, 81, 120, 135, 161-162, 165-230, 233\n",
            "testcasesfile.py                                                         73      0   100%\n",
            "/usr/local/lib/python3.10/dist-packages/_distutils_hack/__init__.py     101     96     5%   2-102, 112-240\n",
            "---------------------------------------------------------------------------------------------------\n",
            "TOTAL                                                                   347    154    56%\n"
          ]
        }
      ]
    },
    {
      "cell_type": "code",
      "source": [
        "!pip install mutpy\n",
        "!mut.py --target project.py --unit-test testcasesfile.py --runner 'unittest' --coverage"
      ],
      "metadata": {
        "colab": {
          "base_uri": "https://localhost:8080/",
          "height": 0
        },
        "id": "0DhWw8raMsKq",
        "outputId": "08fd1ccc-9482-4cc8-d4a2-4b63a8bcb3b2"
      },
      "execution_count": 12,
      "outputs": [
        {
          "output_type": "stream",
          "name": "stdout",
          "text": [
            "Requirement already satisfied: mutpy in /usr/local/lib/python3.10/dist-packages (0.6.1)\n",
            "Requirement already satisfied: Jinja2>=2.7.1 in /usr/local/lib/python3.10/dist-packages (from mutpy) (3.1.4)\n",
            "Requirement already satisfied: termcolor>=1.0.0 in /usr/local/lib/python3.10/dist-packages (from mutpy) (2.5.0)\n",
            "Requirement already satisfied: astmonkey>=0.2.2 in /usr/local/lib/python3.10/dist-packages (from mutpy) (0.3.6)\n",
            "Requirement already satisfied: PyYAML>=3.10 in /usr/local/lib/python3.10/dist-packages (from mutpy) (6.0.2)\n",
            "Requirement already satisfied: pydot in /usr/local/lib/python3.10/dist-packages (from astmonkey>=0.2.2->mutpy) (3.0.3)\n",
            "Requirement already satisfied: MarkupSafe>=2.0 in /usr/local/lib/python3.10/dist-packages (from Jinja2>=2.7.1->mutpy) (3.0.2)\n",
            "Requirement already satisfied: pyparsing>=3.0.9 in /usr/local/lib/python3.10/dist-packages (from pydot->astmonkey>=0.2.2->mutpy) (3.2.0)\n",
            "[*] Start mutation process:\n",
            "   - targets: project.py\n",
            "   - tests: testcasesfile.py\n",
            "[*] 12 tests passed:\n",
            "   - testcasesfile [0.00075 s]\n",
            "[*] Start mutants generation and execution:\n",
            "   - [#   1] AOR project: [5.02643 s] timeout\n",
            "   - [#   2] AOR project: [0.00722 s] survived\n",
            "   - [#   3] AOR project: [0.00776 s] survived\n",
            "   - [#   4] AOR project: [0.00658 s] survived\n",
            "   - [#   5] AOR project: [0.00672 s] survived\n",
            "   - [#   6] AOR project: [0.00636 s] survived\n",
            "   - [#   7] AOR project: [0.00629 s] survived\n",
            "   - [#   8] AOR project: [0.00624 s] survived\n",
            "   - [#   9] AOR project: [5.00294 s] timeout\n",
            "   - [#  10] COD project: [0.00681 s] survived\n",
            "   - [#  11] COD project: [0.00733 s] killed by test_booking_cancellation_successful (testcasesfile.TestHotelBookingSystem)\n",
            "   - [#  12] COD project: [0.00665 s] killed by test_add_feature_to_room (testcasesfile.TestHotelBookingSystem)\n",
            "   - [#  13] COD project: [0.00743 s] killed by test_room_availability (testcasesfile.TestHotelBookingSystem)\n",
            "   - [#  14] COD project: [0.00694 s] killed by test_booking_cancellation_denied (testcasesfile.TestHotelBookingSystem)\n",
            "   - [#  15] COD project: [0.00686 s] killed by test_booking_cancellation_denied (testcasesfile.TestHotelBookingSystem)\n",
            "   - [#  16] COD project: [0.00686 s] killed by test_booking_cancellation_denied (testcasesfile.TestHotelBookingSystem)\n",
            "   - [#  17] COD project: [0.00736 s] killed by test_customer_details (testcasesfile.TestHotelBookingSystem)\n",
            "   - [#  18] COI project: [0.00738 s] killed by test_booking_no_available_rooms (testcasesfile.TestHotelBookingSystem)\n",
            "   - [#  19] COI project: [0.00665 s] survived\n",
            "   - [#  20] COI project: [0.00753 s] killed by test_booking_cancellation_successful (testcasesfile.TestHotelBookingSystem)\n",
            "   - [#  21] COI project: [0.00673 s] killed by test_add_feature_to_room (testcasesfile.TestHotelBookingSystem)\n",
            "   - [#  22] COI project: [0.00741 s] killed by test_booking_no_available_rooms (testcasesfile.TestHotelBookingSystem)\n",
            "   - [#  23] COI project: [0.00700 s] killed by test_booking_cancellation_denied (testcasesfile.TestHotelBookingSystem)\n",
            "   - [#  24] COI project: [0.00733 s] killed by test_booking_cancellation_denied (testcasesfile.TestHotelBookingSystem)\n",
            "   - [#  25] COI project: [0.00726 s] killed by test_booking_cancellation_denied (testcasesfile.TestHotelBookingSystem)\n",
            "   - [#  26] COI project: [0.00752 s] killed by test_booking_cancellation_denied (testcasesfile.TestHotelBookingSystem)\n",
            "   - [#  27] COI project: [0.00749 s] killed by test_booking_summary (testcasesfile.TestHotelBookingSystem)\n",
            "   - [#  28] COI project: [0.00846 s] killed by test_customer_details (testcasesfile.TestHotelBookingSystem)\n",
            "   - [#  29] COI project: \n",
            "=== Hotel Booking System ===\n",
            "1. Book a Room\n",
            "2. Cancel a Booking\n",
            "3. View Booking Summary\n",
            "4. View Room Availability\n",
            "5. View Customer Details\n",
            "6. View All Room Features\n",
            "7. Exit\n",
            "Enter your choice: 1\n",
            "Enter customer name: Bob\n",
            "Enter room type (Single, Double, Suite): Suite\n",
            "Enter check-in date (YYYY-MM-DD): 2024-12-07\n",
            "Enter check-out date (YYYY-MM-DD): 2024-12-10\n",
            "Room 201 booked for Bob from 2024-12-07 to 2024-12-10. Total Cost: 990.0\n",
            "\n",
            "=== Hotel Booking System ===\n",
            "1. Book a Room\n",
            "2. Cancel a Booking\n",
            "3. View Booking Summary\n",
            "4. View Room Availability\n",
            "5. View Customer Details\n",
            "6. View All Room Features\n",
            "7. Exit\n",
            "Enter your choice: 3\n",
            "Booking for Bob: Room 201 from 2024-12-07 to 2024-12-10, Cost: 990.0\n",
            "\n",
            "=== Hotel Booking System ===\n",
            "1. Book a Room\n",
            "2. Cancel a Booking\n",
            "3. View Booking Summary\n",
            "4. View Room Availability\n",
            "5. View Customer Details\n",
            "6. View All Room Features\n",
            "7. Exit\n",
            "Enter your choice: 4\n",
            "Room 101 (): Single\n",
            "Room 102 (): Double\n",
            "Room 301 (): Single\n",
            "Room 302 (): Double\n",
            "\n",
            "=== Hotel Booking System ===\n",
            "1. Book a Room\n",
            "2. Cancel a Booking\n",
            "3. View Booking Summary\n",
            "4. View Room Availability\n",
            "5. View Customer Details\n",
            "6. View All Room Features\n",
            "7. Exit\n",
            "Enter your choice: 5\n",
            "Enter customer name: Bob\n",
            "Room 201, Check-in: 2024-12-07, Check-out: 2024-12-10\n",
            "\n",
            "=== Hotel Booking System ===\n",
            "1. Book a Room\n",
            "2. Cancel a Booking\n",
            "3. View Booking Summary\n",
            "4. View Room Availability\n",
            "5. View Customer Details\n",
            "6. View All Room Features\n",
            "7. Exit\n",
            "Enter your choice: 7\n",
            "Exiting the system.\n",
            "[0.00000 s] incompetent\n",
            "   - [#  30] LCR project: [0.00824 s] killed by test_booking_no_available_rooms (testcasesfile.TestHotelBookingSystem)\n",
            "   - [#  31] LCR project: [0.00724 s] survived\n",
            "   - [#  32] ROR project: [0.00832 s] killed by test_booking_no_available_rooms (testcasesfile.TestHotelBookingSystem)\n",
            "   - [#  33] ROR project: [0.01095 s] killed by test_booking_cancellation_denied (testcasesfile.TestHotelBookingSystem)\n",
            "   - [#  34] ROR project: [0.00791 s] killed by test_booking_cancellation_denied (testcasesfile.TestHotelBookingSystem)\n",
            "   - [#  35] ROR project: [0.00787 s] killed by test_booking_cancellation_denied (testcasesfile.TestHotelBookingSystem)\n",
            "   - [#  36] ROR project: [0.00718 s] survived\n",
            "   - [#  37] ROR project: [0.01353 s] killed by test_customer_details (testcasesfile.TestHotelBookingSystem)\n",
            "   - [#  38] ROR project: \n",
            "=== Hotel Booking System ===\n",
            "1. Book a Room\n",
            "2. Cancel a Booking\n",
            "3. View Booking Summary\n",
            "4. View Room Availability\n",
            "5. View Customer Details\n",
            "6. View All Room Features\n",
            "7. Exit\n",
            "Enter your choice: [0.00000 s] incompetent\n",
            "[*] Mutation score [84.06070 s]: 69.4%\n",
            "   - all: 38\n",
            "   - killed: 23 (60.5%)\n",
            "   - survived: 11 (28.9%)\n",
            "   - incompetent: 2 (5.3%)\n",
            "   - timeout: 2 (5.3%)\n",
            "[*] Coverage: 947 of 1366 AST nodes (69.3%)\n"
          ]
        }
      ]
    }
  ]
}